{
 "cells": [
  {
   "cell_type": "code",
   "execution_count": 1,
   "metadata": {},
   "outputs": [],
   "source": [
    "# 2 methods with same name implemented in 2 classes having the same name.\n",
    "class Person:\n",
    "    def __init__(self,name,age):\n",
    "        self.name=name\n",
    "        self.age=age\n",
    "                                                                  \n",
    "    def print_data(self):\n",
    "        print(f'name : {self.name} and age : {self.age}')\n",
    "\n",
    "\n",
    "class Person:\n",
    "    def __init__(self,name,age,job):\n",
    "        self.name=name\n",
    "        self.age=age\n",
    "        self.job=job\n",
    "    \n",
    "    def print_data(self):\n",
    "        print(f'name : {self.name} and age : {self.age} and job : {self.job}')    \n",
    "                "
   ]
  },
  {
   "cell_type": "code",
   "execution_count": 5,
   "metadata": {},
   "outputs": [
    {
     "ename": "TypeError",
     "evalue": "Person.__init__() missing 1 required positional argument: 'job'",
     "output_type": "error",
     "traceback": [
      "\u001b[1;31m---------------------------------------------------------------------------\u001b[0m",
      "\u001b[1;31mTypeError\u001b[0m                                 Traceback (most recent call last)",
      "Cell \u001b[1;32mIn[5], line 1\u001b[0m\n\u001b[1;32m----> 1\u001b[0m person1\u001b[38;5;241m=\u001b[39m\u001b[43mPerson\u001b[49m\u001b[43m(\u001b[49m\u001b[38;5;124;43m'\u001b[39;49m\u001b[38;5;124;43mkhadiga\u001b[39;49m\u001b[38;5;124;43m'\u001b[39;49m\u001b[43m,\u001b[49m\u001b[38;5;241;43m21\u001b[39;49m\u001b[43m)\u001b[49m\n\u001b[0;32m      3\u001b[0m person1\u001b[38;5;241m.\u001b[39mprint_data()\n",
      "\u001b[1;31mTypeError\u001b[0m: Person.__init__() missing 1 required positional argument: 'job'"
     ]
    }
   ],
   "source": [
    "person1=Person('khadiga',21)\n",
    "\n",
    "person1.print_data()\n"
   ]
  },
  {
   "cell_type": "code",
   "execution_count": 6,
   "metadata": {},
   "outputs": [
    {
     "name": "stdout",
     "output_type": "stream",
     "text": [
      "name : khadiga and age : 21 and job : student\n"
     ]
    }
   ],
   "source": [
    "person2=Person('khadiga',21,'student')\n",
    "person2.print_data()"
   ]
  }
 ],
 "metadata": {
  "kernelspec": {
   "display_name": "Python 3",
   "language": "python",
   "name": "python3"
  },
  "language_info": {
   "codemirror_mode": {
    "name": "ipython",
    "version": 3
   },
   "file_extension": ".py",
   "mimetype": "text/x-python",
   "name": "python",
   "nbconvert_exporter": "python",
   "pygments_lexer": "ipython3",
   "version": "3.11.7"
  }
 },
 "nbformat": 4,
 "nbformat_minor": 2
}
